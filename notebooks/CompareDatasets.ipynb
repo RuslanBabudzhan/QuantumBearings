{
 "cells": [
  {
   "cell_type": "code",
   "execution_count": 1,
   "metadata": {
    "collapsed": true
   },
   "outputs": [],
   "source": [
    "import os\n",
    "import re\n",
    "\n",
    "import numpy as np\n",
    "import pandas as pd\n",
    "\n",
    "from source.processes import Shuffler\n",
    "from source.datamodels.datamodels import BootstrapDatasetsComparisonResults\n",
    "from source.datamodels.datamodels import Axes, Stats"
   ]
  },
  {
   "cell_type": "code",
   "execution_count": 2,
   "outputs": [],
   "source": [
    "project_folder = \"F:/PythonNotebooks/Study/Quantum/Bearings/\"\n",
    "own_data_path = os.path.join(project_folder, \"data/own datasets/\")\n",
    "third_party_data_path = os.path.join(project_folder, \"data/third party datasets/\")"
   ],
   "metadata": {
    "collapsed": false,
    "pycharm": {
     "name": "#%%\n"
    }
   }
  },
  {
   "cell_type": "code",
   "execution_count": 3,
   "outputs": [
    {
     "data": {
      "text/plain": "   target  group  a1_y_signal_activity  a1_y_signal_energy  a1_y_signal_iqr  \\\n0     1.0    1.0              0.041605        44338.707155         0.026614   \n1     1.0    1.0              0.133815        44540.227042         0.001980   \n2     1.0    1.0              0.470884        44653.643007         0.001556   \n3     1.0    1.0              0.870449        44680.818980         0.001434   \n4     1.0    1.0              0.460420        44708.987425         0.001382   \n\n   a1_y_signal_variation  a1_y_signal_mean  a1_y_signal_range  \\\n0               0.006545          1.922169           0.042966   \n1               0.002293          1.926568           0.037050   \n2               0.000625          1.929024           0.020445   \n3               0.000777          1.929611           0.061155   \n4               0.000564          1.930220           0.012463   \n\n   a1_y_signal_std  a1_y_signal_complexity  ...  a2_y_specter_complexity  \\\n0         0.012580               31.661320  ...                 3.417990   \n1         0.004417               10.516747  ...                 5.375270   \n2         0.001207                2.934539  ...                 4.808027   \n3         0.001498                1.831956  ...                 4.470592   \n4         0.001088                2.952793  ...                 3.973786   \n\n   a2_y_specter_skew  a2_y_specter_sample_entropy  a2_y_specter_kurtosis  \\\n0          -0.112285                     2.868557              -0.034169   \n1          -0.797098                     2.805931               0.636421   \n2           0.067012                     2.863283              -0.084551   \n3          -0.215543                     2.867958              -0.321073   \n4           0.454384                     2.867852               0.251929   \n\n   a2_y_specter_hurst  a2_y_specter_petrosian_fd  a2_y_specter_zero_crossing  \\\n0            0.788408                   1.025012                         0.0   \n1            0.657959                   1.025371                         0.0   \n2            0.677378                   1.024806                         0.0   \n3            0.713769                   1.026344                         0.0   \n4            0.749379                   1.024600                         0.0   \n\n   a2_y_specter_crest_factor  a2_y_specter_higuchi_fd  \\\n0                   1.000277                 1.608481   \n1                   1.305359                 1.601905   \n2                   1.175973                 1.593797   \n3                   1.266530                 1.613716   \n4                   1.364315                 1.535780   \n\n   a2_y_specter_shannon_entropy  \n0                      9.965784  \n1                      9.965784  \n2                      9.965784  \n3                      9.965784  \n4                      9.965784  \n\n[5 rows x 70 columns]",
      "text/html": "<div>\n<style scoped>\n    .dataframe tbody tr th:only-of-type {\n        vertical-align: middle;\n    }\n\n    .dataframe tbody tr th {\n        vertical-align: top;\n    }\n\n    .dataframe thead th {\n        text-align: right;\n    }\n</style>\n<table border=\"1\" class=\"dataframe\">\n  <thead>\n    <tr style=\"text-align: right;\">\n      <th></th>\n      <th>target</th>\n      <th>group</th>\n      <th>a1_y_signal_activity</th>\n      <th>a1_y_signal_energy</th>\n      <th>a1_y_signal_iqr</th>\n      <th>a1_y_signal_variation</th>\n      <th>a1_y_signal_mean</th>\n      <th>a1_y_signal_range</th>\n      <th>a1_y_signal_std</th>\n      <th>a1_y_signal_complexity</th>\n      <th>...</th>\n      <th>a2_y_specter_complexity</th>\n      <th>a2_y_specter_skew</th>\n      <th>a2_y_specter_sample_entropy</th>\n      <th>a2_y_specter_kurtosis</th>\n      <th>a2_y_specter_hurst</th>\n      <th>a2_y_specter_petrosian_fd</th>\n      <th>a2_y_specter_zero_crossing</th>\n      <th>a2_y_specter_crest_factor</th>\n      <th>a2_y_specter_higuchi_fd</th>\n      <th>a2_y_specter_shannon_entropy</th>\n    </tr>\n  </thead>\n  <tbody>\n    <tr>\n      <th>0</th>\n      <td>1.0</td>\n      <td>1.0</td>\n      <td>0.041605</td>\n      <td>44338.707155</td>\n      <td>0.026614</td>\n      <td>0.006545</td>\n      <td>1.922169</td>\n      <td>0.042966</td>\n      <td>0.012580</td>\n      <td>31.661320</td>\n      <td>...</td>\n      <td>3.417990</td>\n      <td>-0.112285</td>\n      <td>2.868557</td>\n      <td>-0.034169</td>\n      <td>0.788408</td>\n      <td>1.025012</td>\n      <td>0.0</td>\n      <td>1.000277</td>\n      <td>1.608481</td>\n      <td>9.965784</td>\n    </tr>\n    <tr>\n      <th>1</th>\n      <td>1.0</td>\n      <td>1.0</td>\n      <td>0.133815</td>\n      <td>44540.227042</td>\n      <td>0.001980</td>\n      <td>0.002293</td>\n      <td>1.926568</td>\n      <td>0.037050</td>\n      <td>0.004417</td>\n      <td>10.516747</td>\n      <td>...</td>\n      <td>5.375270</td>\n      <td>-0.797098</td>\n      <td>2.805931</td>\n      <td>0.636421</td>\n      <td>0.657959</td>\n      <td>1.025371</td>\n      <td>0.0</td>\n      <td>1.305359</td>\n      <td>1.601905</td>\n      <td>9.965784</td>\n    </tr>\n    <tr>\n      <th>2</th>\n      <td>1.0</td>\n      <td>1.0</td>\n      <td>0.470884</td>\n      <td>44653.643007</td>\n      <td>0.001556</td>\n      <td>0.000625</td>\n      <td>1.929024</td>\n      <td>0.020445</td>\n      <td>0.001207</td>\n      <td>2.934539</td>\n      <td>...</td>\n      <td>4.808027</td>\n      <td>0.067012</td>\n      <td>2.863283</td>\n      <td>-0.084551</td>\n      <td>0.677378</td>\n      <td>1.024806</td>\n      <td>0.0</td>\n      <td>1.175973</td>\n      <td>1.593797</td>\n      <td>9.965784</td>\n    </tr>\n    <tr>\n      <th>3</th>\n      <td>1.0</td>\n      <td>1.0</td>\n      <td>0.870449</td>\n      <td>44680.818980</td>\n      <td>0.001434</td>\n      <td>0.000777</td>\n      <td>1.929611</td>\n      <td>0.061155</td>\n      <td>0.001498</td>\n      <td>1.831956</td>\n      <td>...</td>\n      <td>4.470592</td>\n      <td>-0.215543</td>\n      <td>2.867958</td>\n      <td>-0.321073</td>\n      <td>0.713769</td>\n      <td>1.026344</td>\n      <td>0.0</td>\n      <td>1.266530</td>\n      <td>1.613716</td>\n      <td>9.965784</td>\n    </tr>\n    <tr>\n      <th>4</th>\n      <td>1.0</td>\n      <td>1.0</td>\n      <td>0.460420</td>\n      <td>44708.987425</td>\n      <td>0.001382</td>\n      <td>0.000564</td>\n      <td>1.930220</td>\n      <td>0.012463</td>\n      <td>0.001088</td>\n      <td>2.952793</td>\n      <td>...</td>\n      <td>3.973786</td>\n      <td>0.454384</td>\n      <td>2.867852</td>\n      <td>0.251929</td>\n      <td>0.749379</td>\n      <td>1.024600</td>\n      <td>0.0</td>\n      <td>1.364315</td>\n      <td>1.535780</td>\n      <td>9.965784</td>\n    </tr>\n  </tbody>\n</table>\n<p>5 rows × 70 columns</p>\n</div>"
     },
     "execution_count": 3,
     "metadata": {},
     "output_type": "execute_result"
    }
   ],
   "source": [
    "prepared_data_our = pd.read_csv(os.path.join(own_data_path, 'processed_full_signal_specter1000_noscale.csv'), delimiter=',')  # our experiment\n",
    "prepared_data_cesar = pd.read_csv(os.path.join(third_party_data_path, 'N1 Cesar Ricardo', 'csv',\n",
    "                                               'processed_full_signal_specter1000_noscale.csv'), delimiter=',')  # third-party dataset\n",
    "prepared_data_cesar.head()"
   ],
   "metadata": {
    "collapsed": false,
    "pycharm": {
     "name": "#%%\n"
    }
   }
  },
  {
   "cell_type": "code",
   "execution_count": 4,
   "outputs": [
    {
     "data": {
      "text/plain": "   target  group  a1_y_signal_complexity  a1_y_signal_shannon_entropy  \\\n0     0.0    1.0                3.100466                     5.628094   \n1     0.0    1.0                2.866693                     5.571487   \n2     0.0    1.0                2.939681                     5.677412   \n3     0.0    1.0                3.121533                     5.593416   \n4     0.0    1.0                2.935835                     5.668443   \n\n   a1_y_signal_kurtosis  a1_y_signal_variation  a1_y_signal_hurst  \\\n0              0.389080             -93.999116           0.206889   \n1             -0.164861            3504.572754           0.265750   \n2             -0.257201             -63.715093           0.242578   \n3             -0.178955             -87.235829           0.247701   \n4             -0.427914             586.585196           0.235952   \n\n   a1_y_signal_skew  a1_y_signal_activity  a1_y_signal_iqr  ...  \\\n0          0.365208              0.437712         1.608786  ...   \n1          0.043096              0.478841         1.608786  ...   \n2          0.053761              0.462579         1.703421  ...   \n3          0.245106              0.444901         1.703421  ...   \n4          0.045068              0.468474         1.798055  ...   \n\n   a2_y_specter_iqr  a2_y_specter_zero_crossing  a2_y_specter_range  \\\n0        127.083937                         0.0          324.665941   \n1         81.869311                         0.0          305.108538   \n2         69.246355                         0.0          275.158344   \n3         71.957257                         0.0          258.635687   \n4         86.943406                         0.0          315.980245   \n\n   a2_y_specter_mean  a2_y_specter_petrosian_fd  a2_y_specter_higuchi_fd  \\\n0         144.089754                   1.024343                 1.420136   \n1         167.014306                   1.023878                 1.447423   \n2         118.247879                   1.025577                 1.500578   \n3         100.722478                   1.024085                 1.522405   \n4         145.169932                   1.022998                 1.436566   \n\n   a2_y_specter_crest_factor  a2_y_specter_energy  a2_y_specter_std  \\\n0                   1.985256         2.688847e+07         78.272678   \n1                   1.800562         3.115210e+07         57.081674   \n2                   2.209490         1.679282e+07         53.011865   \n3                   2.329906         1.273816e+07         50.922880   \n4                   2.025598         2.487754e+07         61.670318   \n\n   a2_y_specter_sample_entropy  \n0                     2.914185  \n1                     2.895828  \n2                     2.867007  \n3                     2.847588  \n4                     2.913078  \n\n[5 rows x 70 columns]",
      "text/html": "<div>\n<style scoped>\n    .dataframe tbody tr th:only-of-type {\n        vertical-align: middle;\n    }\n\n    .dataframe tbody tr th {\n        vertical-align: top;\n    }\n\n    .dataframe thead th {\n        text-align: right;\n    }\n</style>\n<table border=\"1\" class=\"dataframe\">\n  <thead>\n    <tr style=\"text-align: right;\">\n      <th></th>\n      <th>target</th>\n      <th>group</th>\n      <th>a1_y_signal_complexity</th>\n      <th>a1_y_signal_shannon_entropy</th>\n      <th>a1_y_signal_kurtosis</th>\n      <th>a1_y_signal_variation</th>\n      <th>a1_y_signal_hurst</th>\n      <th>a1_y_signal_skew</th>\n      <th>a1_y_signal_activity</th>\n      <th>a1_y_signal_iqr</th>\n      <th>...</th>\n      <th>a2_y_specter_iqr</th>\n      <th>a2_y_specter_zero_crossing</th>\n      <th>a2_y_specter_range</th>\n      <th>a2_y_specter_mean</th>\n      <th>a2_y_specter_petrosian_fd</th>\n      <th>a2_y_specter_higuchi_fd</th>\n      <th>a2_y_specter_crest_factor</th>\n      <th>a2_y_specter_energy</th>\n      <th>a2_y_specter_std</th>\n      <th>a2_y_specter_sample_entropy</th>\n    </tr>\n  </thead>\n  <tbody>\n    <tr>\n      <th>0</th>\n      <td>0.0</td>\n      <td>1.0</td>\n      <td>3.100466</td>\n      <td>5.628094</td>\n      <td>0.389080</td>\n      <td>-93.999116</td>\n      <td>0.206889</td>\n      <td>0.365208</td>\n      <td>0.437712</td>\n      <td>1.608786</td>\n      <td>...</td>\n      <td>127.083937</td>\n      <td>0.0</td>\n      <td>324.665941</td>\n      <td>144.089754</td>\n      <td>1.024343</td>\n      <td>1.420136</td>\n      <td>1.985256</td>\n      <td>2.688847e+07</td>\n      <td>78.272678</td>\n      <td>2.914185</td>\n    </tr>\n    <tr>\n      <th>1</th>\n      <td>0.0</td>\n      <td>1.0</td>\n      <td>2.866693</td>\n      <td>5.571487</td>\n      <td>-0.164861</td>\n      <td>3504.572754</td>\n      <td>0.265750</td>\n      <td>0.043096</td>\n      <td>0.478841</td>\n      <td>1.608786</td>\n      <td>...</td>\n      <td>81.869311</td>\n      <td>0.0</td>\n      <td>305.108538</td>\n      <td>167.014306</td>\n      <td>1.023878</td>\n      <td>1.447423</td>\n      <td>1.800562</td>\n      <td>3.115210e+07</td>\n      <td>57.081674</td>\n      <td>2.895828</td>\n    </tr>\n    <tr>\n      <th>2</th>\n      <td>0.0</td>\n      <td>1.0</td>\n      <td>2.939681</td>\n      <td>5.677412</td>\n      <td>-0.257201</td>\n      <td>-63.715093</td>\n      <td>0.242578</td>\n      <td>0.053761</td>\n      <td>0.462579</td>\n      <td>1.703421</td>\n      <td>...</td>\n      <td>69.246355</td>\n      <td>0.0</td>\n      <td>275.158344</td>\n      <td>118.247879</td>\n      <td>1.025577</td>\n      <td>1.500578</td>\n      <td>2.209490</td>\n      <td>1.679282e+07</td>\n      <td>53.011865</td>\n      <td>2.867007</td>\n    </tr>\n    <tr>\n      <th>3</th>\n      <td>0.0</td>\n      <td>1.0</td>\n      <td>3.121533</td>\n      <td>5.593416</td>\n      <td>-0.178955</td>\n      <td>-87.235829</td>\n      <td>0.247701</td>\n      <td>0.245106</td>\n      <td>0.444901</td>\n      <td>1.703421</td>\n      <td>...</td>\n      <td>71.957257</td>\n      <td>0.0</td>\n      <td>258.635687</td>\n      <td>100.722478</td>\n      <td>1.024085</td>\n      <td>1.522405</td>\n      <td>2.329906</td>\n      <td>1.273816e+07</td>\n      <td>50.922880</td>\n      <td>2.847588</td>\n    </tr>\n    <tr>\n      <th>4</th>\n      <td>0.0</td>\n      <td>1.0</td>\n      <td>2.935835</td>\n      <td>5.668443</td>\n      <td>-0.427914</td>\n      <td>586.585196</td>\n      <td>0.235952</td>\n      <td>0.045068</td>\n      <td>0.468474</td>\n      <td>1.798055</td>\n      <td>...</td>\n      <td>86.943406</td>\n      <td>0.0</td>\n      <td>315.980245</td>\n      <td>145.169932</td>\n      <td>1.022998</td>\n      <td>1.436566</td>\n      <td>2.025598</td>\n      <td>2.487754e+07</td>\n      <td>61.670318</td>\n      <td>2.913078</td>\n    </tr>\n  </tbody>\n</table>\n<p>5 rows × 70 columns</p>\n</div>"
     },
     "execution_count": 4,
     "metadata": {},
     "output_type": "execute_result"
    }
   ],
   "source": [
    "our_dataset_cols_to_delete_prefixes = ['a1_x', 'a1_z', 'a2_x', 'a2_z']\n",
    "our_dataset_cols = prepared_data_our.columns\n",
    "cols_to_leave = [col for col in our_dataset_cols if not re.search(pattern='^a[12]_[xz]', string=col)]\n",
    "prepared_data_our = prepared_data_our[cols_to_leave]\n",
    "prepared_data_our.head()"
   ],
   "metadata": {
    "collapsed": false,
    "pycharm": {
     "name": "#%%\n"
    }
   }
  },
  {
   "cell_type": "code",
   "execution_count": 5,
   "outputs": [],
   "source": [
    "our_groups_max = np.max(prepared_data_our['group'])\n",
    "prepared_data_cesar['group'] = prepared_data_cesar['group'].apply(lambda x: x + our_groups_max)"
   ],
   "metadata": {
    "collapsed": false,
    "pycharm": {
     "name": "#%%\n"
    }
   }
  },
  {
   "cell_type": "code",
   "execution_count": 6,
   "outputs": [
    {
     "name": "stdout",
     "output_type": "stream",
     "text": [
      "[  1.   2.   3.   4.   5.   6.   7.   8.   9.  10.  11.  12.  13.  14.\n",
      "  15.  16.  17.  18.  19.  20.  21.  22.  23.  24.  25.  26.  27.  28.\n",
      "  29.  30.  31.  32.  33.  34.  35.  36.  37.  38.  39.  40.  41.  42.\n",
      "  43.  44.  45.  46.  47.  48.  49.  50.  51.  52.  53.  54.  55.  56.\n",
      "  57.  58.  59.  60.  61.  62.  63.  64.  65.  66.  67.  68.  69.  70.\n",
      "  71.  72.  73.  74.  75.  76.  77.  78.  79.  80.  81.  82.  83.  84.\n",
      "  85.  86.  87.  88.  89.  90.  91.  92.  93.  94.  95.  96.  97.  98.\n",
      "  99. 100. 101. 102. 103. 104. 105. 106. 107. 108. 109. 110. 111. 112.\n",
      " 113. 114. 115. 116. 117. 118. 119. 120. 121. 122. 123. 124. 125. 126.\n",
      " 127. 128. 129. 130. 131. 132. 133. 134. 135. 136. 137. 138. 139. 140.\n",
      " 141. 142. 143. 144. 145. 146. 147. 148. 149. 150. 151. 153. 154. 155.\n",
      " 156. 157.]\n",
      "<class 'pandas.core.frame.DataFrame'>\n",
      "Int64Index: 1560 entries, 0 to 439\n",
      "Data columns (total 70 columns):\n",
      " #   Column                        Non-Null Count  Dtype  \n",
      "---  ------                        --------------  -----  \n",
      " 0   target                        1560 non-null   float64\n",
      " 1   group                         1560 non-null   float64\n",
      " 2   a1_y_signal_complexity        1560 non-null   float64\n",
      " 3   a1_y_signal_shannon_entropy   1560 non-null   float64\n",
      " 4   a1_y_signal_kurtosis          1560 non-null   float64\n",
      " 5   a1_y_signal_variation         1560 non-null   float64\n",
      " 6   a1_y_signal_hurst             1560 non-null   float64\n",
      " 7   a1_y_signal_skew              1560 non-null   float64\n",
      " 8   a1_y_signal_activity          1560 non-null   float64\n",
      " 9   a1_y_signal_iqr               1560 non-null   float64\n",
      " 10  a1_y_signal_zero_crossing     1560 non-null   float64\n",
      " 11  a1_y_signal_range             1560 non-null   float64\n",
      " 12  a1_y_signal_mean              1560 non-null   float64\n",
      " 13  a1_y_signal_petrosian_fd      1560 non-null   float64\n",
      " 14  a1_y_signal_higuchi_fd        1560 non-null   float64\n",
      " 15  a1_y_signal_crest_factor      1560 non-null   float64\n",
      " 16  a1_y_signal_energy            1560 non-null   float64\n",
      " 17  a1_y_signal_std               1560 non-null   float64\n",
      " 18  a1_y_signal_sample_entropy    1560 non-null   float64\n",
      " 19  a1_y_specter_complexity       1560 non-null   float64\n",
      " 20  a1_y_specter_shannon_entropy  1560 non-null   float64\n",
      " 21  a1_y_specter_kurtosis         1560 non-null   float64\n",
      " 22  a1_y_specter_variation        1560 non-null   float64\n",
      " 23  a1_y_specter_hurst            1560 non-null   float64\n",
      " 24  a1_y_specter_skew             1560 non-null   float64\n",
      " 25  a1_y_specter_activity         1560 non-null   float64\n",
      " 26  a1_y_specter_iqr              1560 non-null   float64\n",
      " 27  a1_y_specter_zero_crossing    1560 non-null   float64\n",
      " 28  a1_y_specter_range            1560 non-null   float64\n",
      " 29  a1_y_specter_mean             1560 non-null   float64\n",
      " 30  a1_y_specter_petrosian_fd     1560 non-null   float64\n",
      " 31  a1_y_specter_higuchi_fd       1560 non-null   float64\n",
      " 32  a1_y_specter_crest_factor     1560 non-null   float64\n",
      " 33  a1_y_specter_energy           1560 non-null   float64\n",
      " 34  a1_y_specter_std              1560 non-null   float64\n",
      " 35  a1_y_specter_sample_entropy   1560 non-null   float64\n",
      " 36  a2_y_signal_complexity        1560 non-null   float64\n",
      " 37  a2_y_signal_shannon_entropy   1560 non-null   float64\n",
      " 38  a2_y_signal_kurtosis          1560 non-null   float64\n",
      " 39  a2_y_signal_variation         1560 non-null   float64\n",
      " 40  a2_y_signal_hurst             1560 non-null   float64\n",
      " 41  a2_y_signal_skew              1560 non-null   float64\n",
      " 42  a2_y_signal_activity          1560 non-null   float64\n",
      " 43  a2_y_signal_iqr               1560 non-null   float64\n",
      " 44  a2_y_signal_zero_crossing     1560 non-null   float64\n",
      " 45  a2_y_signal_range             1560 non-null   float64\n",
      " 46  a2_y_signal_mean              1560 non-null   float64\n",
      " 47  a2_y_signal_petrosian_fd      1560 non-null   float64\n",
      " 48  a2_y_signal_higuchi_fd        1560 non-null   float64\n",
      " 49  a2_y_signal_crest_factor      1560 non-null   float64\n",
      " 50  a2_y_signal_energy            1560 non-null   float64\n",
      " 51  a2_y_signal_std               1560 non-null   float64\n",
      " 52  a2_y_signal_sample_entropy    1560 non-null   float64\n",
      " 53  a2_y_specter_complexity       1560 non-null   float64\n",
      " 54  a2_y_specter_shannon_entropy  1560 non-null   float64\n",
      " 55  a2_y_specter_kurtosis         1560 non-null   float64\n",
      " 56  a2_y_specter_variation        1560 non-null   float64\n",
      " 57  a2_y_specter_hurst            1560 non-null   float64\n",
      " 58  a2_y_specter_skew             1560 non-null   float64\n",
      " 59  a2_y_specter_activity         1560 non-null   float64\n",
      " 60  a2_y_specter_iqr              1560 non-null   float64\n",
      " 61  a2_y_specter_zero_crossing    1560 non-null   float64\n",
      " 62  a2_y_specter_range            1560 non-null   float64\n",
      " 63  a2_y_specter_mean             1560 non-null   float64\n",
      " 64  a2_y_specter_petrosian_fd     1560 non-null   float64\n",
      " 65  a2_y_specter_higuchi_fd       1560 non-null   float64\n",
      " 66  a2_y_specter_crest_factor     1560 non-null   float64\n",
      " 67  a2_y_specter_energy           1560 non-null   float64\n",
      " 68  a2_y_specter_std              1560 non-null   float64\n",
      " 69  a2_y_specter_sample_entropy   1560 non-null   float64\n",
      "dtypes: float64(70)\n",
      "memory usage: 865.3 KB\n"
     ]
    }
   ],
   "source": [
    "prepared_data = pd.concat([prepared_data_our, prepared_data_cesar])\n",
    "print(prepared_data['group'].unique())\n",
    "prepared_data.info()"
   ],
   "metadata": {
    "collapsed": false,
    "pycharm": {
     "name": "#%%\n"
    }
   }
  },
  {
   "cell_type": "code",
   "execution_count": 7,
   "outputs": [],
   "source": [
    "# models\n",
    "from sklearn.linear_model import LogisticRegression\n",
    "from sklearn.svm import SVC\n",
    "from sklearn.ensemble import RandomForestClassifier\n",
    "from sklearn.ensemble import GradientBoostingClassifier\n",
    "from sklearn.neighbors import KNeighborsClassifier\n",
    "\n",
    "\n",
    "from sklearn.preprocessing import StandardScaler\n",
    "from sklearn.model_selection import GridSearchCV"
   ],
   "metadata": {
    "collapsed": false,
    "pycharm": {
     "name": "#%%\n"
    }
   }
  },
  {
   "cell_type": "code",
   "execution_count": 8,
   "outputs": [],
   "source": [
    "LR_estimator = LogisticRegression(max_iter=10000)\n",
    "SVC_estimator = SVC()\n",
    "RFC_estimator = RandomForestClassifier()\n",
    "GBM_estimator = GradientBoostingClassifier()\n",
    "KNN_estimator = KNeighborsClassifier()"
   ],
   "metadata": {
    "collapsed": false,
    "pycharm": {
     "name": "#%%\n"
    }
   }
  },
  {
   "cell_type": "code",
   "execution_count": 9,
   "outputs": [],
   "source": [
    "LR_grid = {\"C\": np.logspace(-3, 6, 10)}\n",
    "SVC_grid = {\"C\": np.logspace(-3, 6, 10), 'kernel': ['linear', 'poly', 'rbf', 'sigmoid']}\n",
    "RFC_grid = {'n_estimators': [20, 50, 100, 200, 500], 'max_depth': [1, 3, 5, 9, 15, 30, None]}\n",
    "GBM_grid = {'learning_rate': np.logspace(-3, 4, 8), 'n_estimators': [50, 100, 200, 500], 'max_depth': [1, 3, 5, 9, 15, 30, None]}\n",
    "KNN_grid = {'n_neighbors': [1, 3, 5, 7, 9, 15, 35], 'p': [1, 1.5, 2, 2.5, 6, 100]}"
   ],
   "metadata": {
    "collapsed": false,
    "pycharm": {
     "name": "#%%\n"
    }
   }
  },
  {
   "cell_type": "code",
   "execution_count": 10,
   "outputs": [],
   "source": [
    "X = prepared_data.drop(columns=['target', 'group']).values\n",
    "y = prepared_data['target'].values\n",
    "groups = prepared_data['group'].values\n",
    "our_groups = prepared_data_our['group'].values\n",
    "cesar_groups = prepared_data_cesar['group'].values\n",
    "\n",
    "X_scaled = StandardScaler().fit_transform(X)"
   ],
   "metadata": {
    "collapsed": false,
    "pycharm": {
     "name": "#%%\n"
    }
   }
  },
  {
   "cell_type": "code",
   "execution_count": 13,
   "outputs": [
    {
     "name": "stdout",
     "output_type": "stream",
     "text": [
      "Best f1 score for LR: 34.164% \n",
      " best params: {'C': 1000.0}\n",
      " required time: 0:02:12.757674\n",
      "\n",
      "Best f1 score for SVC: 35.748% \n",
      " best params: {'C': 10000.0, 'kernel': 'sigmoid'}\n",
      " required time: 0:01:49.337458\n",
      "\n"
     ]
    }
   ],
   "source": [
    "from datetime import datetime\n",
    "\n",
    "GS_results_objects = []\n",
    "estimators = [LR_estimator, SVC_estimator]\n",
    "grids = [LR_grid, SVC_grid]\n",
    "names = ['LR', 'SVC']\n",
    "score_name = 'f1'\n",
    "n_repeats = 100\n",
    "\n",
    "for estimator, grid, name in zip(estimators, grids, names):\n",
    "    start_time = datetime.now()\n",
    "    cv = Shuffler.PresplitedOverlapGroupCV(subset_size=0.63, n_repeats=n_repeats).split(X_scaled, y, groups=groups, train_groups=our_groups, test_groups=cesar_groups)\n",
    "    GSCV = GridSearchCV(estimator, grid, scoring=score_name, cv=cv)\n",
    "    GSCV.fit(X_scaled, y, groups=groups)\n",
    "\n",
    "    print(f\"Best {score_name} score for {name}: {100*GSCV.best_score_:.3f}% \\n best params: {GSCV.best_params_}\\n required time: {datetime.now() - start_time}\\n\")\n",
    "\n",
    "    highest_score_params = GSCV.cv_results_['rank_test_score'][0]\n",
    "    split_scores_names = [f'split{idx}_test_score' for idx in range(n_repeats)]\n",
    "\n",
    "    scores_distr = []\n",
    "    for split_scores_name in split_scores_names:\n",
    "        scores_distr.append(GSCV.cv_results_[split_scores_name][highest_score_params-1])\n",
    "    res = BootstrapDatasetsComparisonResults(\n",
    "        run_label = \"GS\",\n",
    "        model_name = name,\n",
    "        hyperparameters = GSCV.best_params_,\n",
    "        use_signal = True,\n",
    "        use_specter = True,\n",
    "        specter_threshold = 1000,\n",
    "        axes = Axes.get_keys(),\n",
    "        stats = Stats.get_keys(),\n",
    "        scores = {score_name: GSCV.best_score_},\n",
    "        predictions = [0.],\n",
    "        resampling_number = n_repeats,\n",
    "        bootstrap_scores =  {score_name: scores_distr},\n",
    "        train_brg_id = list(our_groups),\n",
    "        test_brg_id = list(cesar_groups),\n",
    "        train_dataset_name = 'our',\n",
    "        test_dataset_name = 'Cesar1',\n",
    "        signal_scaler = \"\",\n",
    "    )\n",
    "    GS_results_objects.append(res)"
   ],
   "metadata": {
    "collapsed": false,
    "pycharm": {
     "name": "#%%\n"
    }
   }
  },
  {
   "cell_type": "code",
   "execution_count": 14,
   "outputs": [],
   "source": [
    "estimators_score_distr = [res.bootstrap_scores for res in GS_results_objects]\n",
    "estimators_scores_means = [res.scores for res in GS_results_objects]"
   ],
   "metadata": {
    "collapsed": false,
    "pycharm": {
     "name": "#%%\n"
    }
   }
  },
  {
   "cell_type": "code",
   "execution_count": 16,
   "outputs": [
    {
     "data": {
      "text/plain": "<Figure size 576x864 with 1 Axes>",
      "image/png": "[encoded data removed]"
     },
     "metadata": {},
     "output_type": "display_data"
    }
   ],
   "source": [
    "from source.postprocessing.plotter import dist_plot, bar_plot\n",
    "\n",
    "# dist_plot(results=estimators_score_distr, models=names, metrics=['f1'], plot_size=(8, 12), Title='GridSearch', filename='GS_LR_SVC.png')\n",
    "dist_plot(methods, ['RFC', 'GBM', 'LR', 'KNN'], 'kdeplot', 'f1', (15, 8), 'Title', 'test')\n",
    "# bar_plot(results=estimators_scores_means, models=names, metrics=['f1'], plot_size=(8, 12), Title='Train on our, test on Cesar1', filename='Our_Cesar1.png')"
   ],
   "metadata": {
    "collapsed": false,
    "pycharm": {
     "name": "#%%\n"
    }
   }
  }
 ],
 "metadata": {
  "kernelspec": {
   "display_name": "Python 3",
   "language": "python",
   "name": "python3"
  },
  "language_info": {
   "codemirror_mode": {
    "name": "ipython",
    "version": 2
   },
   "file_extension": ".py",
   "mimetype": "text/x-python",
   "name": "python",
   "nbconvert_exporter": "python",
   "pygments_lexer": "ipython2",
   "version": "2.7.6"
  }
 },
 "nbformat": 4,
 "nbformat_minor": 0
}