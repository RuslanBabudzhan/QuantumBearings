{
 "cells": [
  {
   "cell_type": "code",
   "execution_count": 2,
   "metadata": {
    "collapsed": true
   },
   "outputs": [],
   "source": [
    "import os\n",
    "\n",
    "import numpy as np\n",
    "import pandas as pd\n",
    "\n",
    "from source.processes import Shuffler\n",
    "from source.datamodels.datamodels import GridSearchResults\n",
    "from source.datamodels.datamodels import Axes, Stats"
   ]
  },
  {
   "cell_type": "code",
   "execution_count": 3,
   "outputs": [],
   "source": [
    "project_folder = \"F:/PythonNotebooks/Study/Quantum/Bearings/\"\n",
    "own_data_path = os.path.join(project_folder, \"data/own datasets/\")\n",
    "third_party_data_path = os.path.join(project_folder, \"data/third party datasets/\")"
   ],
   "metadata": {
    "collapsed": false,
    "pycharm": {
     "name": "#%%\n"
    }
   }
  },
  {
   "cell_type": "code",
   "execution_count": 4,
   "outputs": [
    {
     "data": {
      "text/plain": "   target  group  a1_x_signal_complexity  a1_x_signal_shannon_entropy  \\\n0     0.0    1.0                1.865568                     6.388020   \n1     0.0    1.0                1.812863                     6.507361   \n2     0.0    1.0                1.775775                     6.489806   \n3     0.0    1.0                1.912905                     6.422261   \n4     0.0    1.0                1.868826                     6.449559   \n\n   a1_x_signal_kurtosis  a1_x_signal_variation  a1_x_signal_hurst  \\\n0             -0.337526              -9.989303           0.626170   \n1             -0.329388              -8.479932           0.633813   \n2             -0.439591              -9.585973           0.625745   \n3             -0.364524              -9.033494           0.606942   \n4              0.017384              -8.482620           0.631058   \n\n   a1_x_signal_skew  a1_x_signal_activity  a1_x_signal_iqr  ...  \\\n0         -0.231906              0.519530         3.006134  ...   \n1          0.046480              0.519920         3.270674  ...   \n2          0.014204              0.531458         3.174478  ...   \n3         -0.145760              0.512090         2.982085  ...   \n4         -0.149621              0.526677         2.982085  ...   \n\n   a2_z_specter_iqr  a2_z_specter_zero_crossing  a2_z_specter_range  \\\n0        130.212247                         0.0          430.516204   \n1         79.932721                         0.0          339.669032   \n2         87.487539                         0.0          359.727237   \n3         78.688634                         0.0          353.579137   \n4         83.595954                         0.0          331.560162   \n\n   a2_z_specter_mean  a2_z_specter_petrosian_fd  a2_z_specter_higuchi_fd  \\\n0         121.609951                   1.024136                 1.709899   \n1         116.951076                   1.024806                 1.754620   \n2         126.969372                   1.022686                 1.718792   \n3         108.447712                   1.025371                 1.746161   \n4         112.269206                   1.024240                 1.762398   \n\n   a2_z_specter_crest_factor  a2_z_specter_energy  a2_z_specter_std  \\\n0                   2.865578         2.261059e+07         88.439848   \n1                   2.630547         1.683235e+07         56.167537   \n2                   2.593399         1.971760e+07         59.969811   \n3                   2.880197         1.547513e+07         60.944452   \n4                   2.665190         1.596652e+07         57.984006   \n\n   a2_z_specter_sample_entropy  \n0                     2.754299  \n1                     2.881832  \n2                     2.874073  \n3                     2.780298  \n4                     2.852191  \n\n[5 rows x 206 columns]",
      "text/html": "<div>\n<style scoped>\n    .dataframe tbody tr th:only-of-type {\n        vertical-align: middle;\n    }\n\n    .dataframe tbody tr th {\n        vertical-align: top;\n    }\n\n    .dataframe thead th {\n        text-align: right;\n    }\n</style>\n<table border=\"1\" class=\"dataframe\">\n  <thead>\n    <tr style=\"text-align: right;\">\n      <th></th>\n      <th>target</th>\n      <th>group</th>\n      <th>a1_x_signal_complexity</th>\n      <th>a1_x_signal_shannon_entropy</th>\n      <th>a1_x_signal_kurtosis</th>\n      <th>a1_x_signal_variation</th>\n      <th>a1_x_signal_hurst</th>\n      <th>a1_x_signal_skew</th>\n      <th>a1_x_signal_activity</th>\n      <th>a1_x_signal_iqr</th>\n      <th>...</th>\n      <th>a2_z_specter_iqr</th>\n      <th>a2_z_specter_zero_crossing</th>\n      <th>a2_z_specter_range</th>\n      <th>a2_z_specter_mean</th>\n      <th>a2_z_specter_petrosian_fd</th>\n      <th>a2_z_specter_higuchi_fd</th>\n      <th>a2_z_specter_crest_factor</th>\n      <th>a2_z_specter_energy</th>\n      <th>a2_z_specter_std</th>\n      <th>a2_z_specter_sample_entropy</th>\n    </tr>\n  </thead>\n  <tbody>\n    <tr>\n      <th>0</th>\n      <td>0.0</td>\n      <td>1.0</td>\n      <td>1.865568</td>\n      <td>6.388020</td>\n      <td>-0.337526</td>\n      <td>-9.989303</td>\n      <td>0.626170</td>\n      <td>-0.231906</td>\n      <td>0.519530</td>\n      <td>3.006134</td>\n      <td>...</td>\n      <td>130.212247</td>\n      <td>0.0</td>\n      <td>430.516204</td>\n      <td>121.609951</td>\n      <td>1.024136</td>\n      <td>1.709899</td>\n      <td>2.865578</td>\n      <td>2.261059e+07</td>\n      <td>88.439848</td>\n      <td>2.754299</td>\n    </tr>\n    <tr>\n      <th>1</th>\n      <td>0.0</td>\n      <td>1.0</td>\n      <td>1.812863</td>\n      <td>6.507361</td>\n      <td>-0.329388</td>\n      <td>-8.479932</td>\n      <td>0.633813</td>\n      <td>0.046480</td>\n      <td>0.519920</td>\n      <td>3.270674</td>\n      <td>...</td>\n      <td>79.932721</td>\n      <td>0.0</td>\n      <td>339.669032</td>\n      <td>116.951076</td>\n      <td>1.024806</td>\n      <td>1.754620</td>\n      <td>2.630547</td>\n      <td>1.683235e+07</td>\n      <td>56.167537</td>\n      <td>2.881832</td>\n    </tr>\n    <tr>\n      <th>2</th>\n      <td>0.0</td>\n      <td>1.0</td>\n      <td>1.775775</td>\n      <td>6.489806</td>\n      <td>-0.439591</td>\n      <td>-9.585973</td>\n      <td>0.625745</td>\n      <td>0.014204</td>\n      <td>0.531458</td>\n      <td>3.174478</td>\n      <td>...</td>\n      <td>87.487539</td>\n      <td>0.0</td>\n      <td>359.727237</td>\n      <td>126.969372</td>\n      <td>1.022686</td>\n      <td>1.718792</td>\n      <td>2.593399</td>\n      <td>1.971760e+07</td>\n      <td>59.969811</td>\n      <td>2.874073</td>\n    </tr>\n    <tr>\n      <th>3</th>\n      <td>0.0</td>\n      <td>1.0</td>\n      <td>1.912905</td>\n      <td>6.422261</td>\n      <td>-0.364524</td>\n      <td>-9.033494</td>\n      <td>0.606942</td>\n      <td>-0.145760</td>\n      <td>0.512090</td>\n      <td>2.982085</td>\n      <td>...</td>\n      <td>78.688634</td>\n      <td>0.0</td>\n      <td>353.579137</td>\n      <td>108.447712</td>\n      <td>1.025371</td>\n      <td>1.746161</td>\n      <td>2.880197</td>\n      <td>1.547513e+07</td>\n      <td>60.944452</td>\n      <td>2.780298</td>\n    </tr>\n    <tr>\n      <th>4</th>\n      <td>0.0</td>\n      <td>1.0</td>\n      <td>1.868826</td>\n      <td>6.449559</td>\n      <td>0.017384</td>\n      <td>-8.482620</td>\n      <td>0.631058</td>\n      <td>-0.149621</td>\n      <td>0.526677</td>\n      <td>2.982085</td>\n      <td>...</td>\n      <td>83.595954</td>\n      <td>0.0</td>\n      <td>331.560162</td>\n      <td>112.269206</td>\n      <td>1.024240</td>\n      <td>1.762398</td>\n      <td>2.665190</td>\n      <td>1.596652e+07</td>\n      <td>57.984006</td>\n      <td>2.852191</td>\n    </tr>\n  </tbody>\n</table>\n<p>5 rows × 206 columns</p>\n</div>"
     },
     "execution_count": 4,
     "metadata": {},
     "output_type": "execute_result"
    }
   ],
   "source": [
    "prepared_data = pd.read_csv(os.path.join(own_data_path, 'processed_full_signal_specter1000_noscale.csv'), delimiter=',')  # our experiment\n",
    "# prepared_data = pd.read_csv(os.path.join(third_party_data_path, 'N1 Cesar Ricardo', 'csv',\n",
    "#                                          'processed_full_signal_specter1000_noscale.csv'), delimiter=',')  # third-party dataset\n",
    "prepared_data.head()"
   ],
   "metadata": {
    "collapsed": false,
    "pycharm": {
     "name": "#%%\n"
    }
   }
  },
  {
   "cell_type": "code",
   "execution_count": 5,
   "outputs": [],
   "source": [
    "# models\n",
    "from sklearn.linear_model import LogisticRegression\n",
    "from sklearn.svm import SVC\n",
    "from sklearn.ensemble import RandomForestClassifier\n",
    "from sklearn.ensemble import GradientBoostingClassifier\n",
    "from sklearn.neighbors import KNeighborsClassifier\n",
    "\n",
    "\n",
    "from sklearn.preprocessing import StandardScaler\n",
    "from sklearn.model_selection import GridSearchCV"
   ],
   "metadata": {
    "collapsed": false,
    "pycharm": {
     "name": "#%%\n"
    }
   }
  },
  {
   "cell_type": "code",
   "execution_count": 6,
   "outputs": [],
   "source": [
    "LR_estimator = LogisticRegression(max_iter=10000)\n",
    "SVC_estimator = SVC()\n",
    "RFC_estimator = RandomForestClassifier()\n",
    "GBM_estimator = GradientBoostingClassifier()\n",
    "KNN_estimator = KNeighborsClassifier()"
   ],
   "metadata": {
    "collapsed": false,
    "pycharm": {
     "name": "#%%\n"
    }
   }
  },
  {
   "cell_type": "code",
   "execution_count": 7,
   "outputs": [],
   "source": [
    "LR_grid = {\"C\": list(np.logspace(-3, 6, 10))}  # np.ndarrays are not serializable\n",
    "SVC_grid = {\"C\": list(np.logspace(-3, 6, 10)), 'kernel': ['linear', 'poly', 'rbf', 'sigmoid']}\n",
    "RFC_grid = {'n_estimators': [20, 50, 100, 200, 500], 'max_depth': [1, 3, 5, 9, 15, 30, None]}\n",
    "GBM_grid = {'learning_rate': list(np.logspace(-3, 4, 8)), 'n_estimators': [50, 100, 200, 500], 'max_depth': [1, 3, 5, 9, 15, 30, None]}\n",
    "KNN_grid = {'n_neighbors': [1, 3, 5, 7, 9, 15, 35], 'p': [1, 1.5, 2, 2.5, 6, 100]}"
   ],
   "metadata": {
    "collapsed": false,
    "pycharm": {
     "name": "#%%\n"
    }
   }
  },
  {
   "cell_type": "code",
   "execution_count": 8,
   "outputs": [],
   "source": [
    "X = prepared_data.drop(columns=['target', 'group']).values\n",
    "y = prepared_data['target'].values\n",
    "groups = prepared_data['group'].values\n",
    "\n",
    "X_scaled = StandardScaler().fit_transform(X)"
   ],
   "metadata": {
    "collapsed": false,
    "pycharm": {
     "name": "#%%\n"
    }
   }
  },
  {
   "cell_type": "code",
   "execution_count": 34,
   "outputs": [
    {
     "name": "stdout",
     "output_type": "stream",
     "text": [
      "Best f1 score for LR: 84.674% \n",
      " best params: {'C': 10000.0}\n",
      " required time: 0:00:03.004245\n"
     ]
    }
   ],
   "source": [
    "from datetime import datetime\n",
    "\n",
    "GS_results_objects = []\n",
    "estimators = [LR_estimator, SVC_estimator]\n",
    "grids = [LR_grid, SVC_grid]\n",
    "names = ['LR', 'SVC']\n",
    "\n",
    "estimators = [LR_estimator]\n",
    "grids = [LR_grid]\n",
    "names = ['LR']\n",
    "\n",
    "n_repeats = 10\n",
    "score_name = 'f1'\n",
    "\n",
    "for estimator, grid, name in zip(estimators, grids, names):\n",
    "    json_grid = dict()\n",
    "    for key, val in zip (grid.keys(), grid.values()):\n",
    "        if isinstance(val, np.ndarray):\n",
    "            json_grid[key] = list(val)\n",
    "        else:\n",
    "            json_grid[key] = val\n",
    "    start_time = datetime.now()\n",
    "    cv = Shuffler.OverlapGroupCV(train_size=0.63, n_repeats=n_repeats).split(X_scaled, y, groups)\n",
    "    GSCV = GridSearchCV(estimator, grid, scoring=score_name, cv=cv)\n",
    "    GSCV.fit(X_scaled, y, groups=groups)\n",
    "\n",
    "    print(f\"Best {score_name} score for {name}: {100*GSCV.best_score_:.3f}% \\n best params: {GSCV.best_params_}\\n required time: {datetime.now() - start_time}\")\n",
    "\n",
    "    highest_score_params = GSCV.cv_results_['rank_test_score'][0]\n",
    "    split_scores_names = [f'split{idx}_test_score' for idx in range(n_repeats)]\n",
    "\n",
    "    scores_distr = []\n",
    "    for split_scores_name in split_scores_names:\n",
    "        scores_distr.append(float(GSCV.cv_results_[split_scores_name][highest_score_params-1]))\n",
    "    res = GridSearchResults(\n",
    "        run_label = \"GS\",\n",
    "        model_name = name,\n",
    "        hyperparameters = GSCV.best_params_,\n",
    "        hyperparameters_grid = json_grid,\n",
    "        use_signal = True,\n",
    "        use_specter = True,\n",
    "        specter_threshold = 1000,\n",
    "        axes = Axes.get_keys(),\n",
    "        stats = Stats.get_keys(),\n",
    "        predictions = None,\n",
    "        scores = {score_name: float(GSCV.best_score_)},\n",
    "        resampling_number = n_repeats,\n",
    "        bootstrap_scores =  {score_name: scores_distr}\n",
    "    )\n",
    "    GS_results_objects.append(res)"
   ],
   "metadata": {
    "collapsed": false,
    "pycharm": {
     "name": "#%%\n"
    }
   }
  },
  {
   "cell_type": "markdown",
   "source": [],
   "metadata": {
    "collapsed": false
   }
  },
  {
   "cell_type": "code",
   "execution_count": 36,
   "outputs": [],
   "source": [
    "from source.postprocessing.mljson import serialize_results\n",
    "\n",
    "\n",
    "serialize_results(GS_results_objects, filenames=[f\"{model}_GS_28_10_2021.json\" for model in names], filepath=os.path.join(project_folder, 'experiments/BootstrapsRuns/GridSearch/'))"
   ],
   "metadata": {
    "collapsed": false,
    "pycharm": {
     "name": "#%%\n"
    }
   }
  },
  {
   "cell_type": "code",
   "execution_count": 14,
   "outputs": [],
   "source": [
    "estimators_score_distr = [res.bootstrap_scores for res in GS_results_objects]\n",
    "estimators_scores_means = [res.scores for res in GS_results_objects]"
   ],
   "metadata": {
    "collapsed": false,
    "pycharm": {
     "name": "#%%\n"
    }
   }
  },
  {
   "cell_type": "code",
   "execution_count": 19,
   "outputs": [
    {
     "data": {
      "text/plain": "<Figure size 576x864 with 1 Axes>",
      "image/png": "[encoded data removed]"
     },
     "metadata": {},
     "output_type": "display_data"
    }
   ],
   "source": [
    "from source.postprocessing.plotter import dist_plot, bar_plot\n",
    "\n",
    "\n",
    "# dist_plot(results=estimators_score_distr, models=names, metrics=['f1'], plot_size=(8, 12), Title='GridSearch', filename='GS_LR_SVC.png')\n",
    "\n",
    "bar_plot(results=estimators_scores_means, models=names, metrics=['f1'], plot_size=(8, 12), Title='GridSearch best scores', filename='GS_LR_SVC_means.png')"
   ],
   "metadata": {
    "collapsed": false,
    "pycharm": {
     "name": "#%%\n"
    }
   }
  }
 ],
 "metadata": {
  "kernelspec": {
   "display_name": "Python 3",
   "language": "python",
   "name": "python3"
  },
  "language_info": {
   "codemirror_mode": {
    "name": "ipython",
    "version": 2
   },
   "file_extension": ".py",
   "mimetype": "text/x-python",
   "name": "python",
   "nbconvert_exporter": "python",
   "pygments_lexer": "ipython2",
   "version": "2.7.6"
  }
 },
 "nbformat": 4,
 "nbformat_minor": 0
}