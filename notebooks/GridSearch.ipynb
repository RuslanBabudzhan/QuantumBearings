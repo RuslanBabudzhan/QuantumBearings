{
 "cells": [
  {
   "cell_type": "code",
   "execution_count": 2,
   "metadata": {
    "collapsed": true
   },
   "outputs": [],
   "source": [
    "import os\n",
    "\n",
    "import numpy as np\n",
    "import pandas as pd\n",
    "\n",
    "from source.processes import Shuffler\n",
    "from source.datamodels.datamodels import GridSearchResults\n",
    "from source.datamodels.datamodels import Axes, Stats"
   ]
  },
  {
   "cell_type": "code",
   "execution_count": 3,
   "outputs": [],
   "source": [
    "project_folder = \"F:/PythonNotebooks/Study/Quantum/Bearings/\"\n",
    "own_data_path = os.path.join(project_folder, \"data/own datasets/\")\n",
    "third_party_data_path = os.path.join(project_folder, \"data/third party datasets/\")"
   ],
   "metadata": {
    "collapsed": false,
    "pycharm": {
     "name": "#%%\n"
    }
   }
  },
  {
   "cell_type": "code",
   "execution_count": 4,
   "outputs": [
    {
     "data": {
      "text/plain": "   target  group  a1_x_signal_complexity  a1_x_signal_shannon_entropy  \\\n0     0.0    1.0                1.865568                     6.388020   \n1     0.0    1.0                1.812863                     6.507361   \n2     0.0    1.0                1.775775                     6.489806   \n3     0.0    1.0                1.912905                     6.422261   \n4     0.0    1.0                1.868826                     6.449559   \n\n   a1_x_signal_kurtosis  a1_x_signal_variation  a1_x_signal_hurst  \\\n0             -0.337526              -9.989303           0.626170   \n1             -0.329388              -8.479932           0.633813   \n2             -0.439591              -9.585973           0.625745   \n3             -0.364524              -9.033494           0.606942   \n4              0.017384              -8.482620           0.631058   \n\n   a1_x_signal_skew  a1_x_signal_activity  a1_x_signal_iqr  ...  \\\n0         -0.231906              0.519530         3.006134  ...   \n1          0.046480              0.519920         3.270674  ...   \n2          0.014204              0.531458         3.174478  ...   \n3         -0.145760              0.512090         2.982085  ...   \n4         -0.149621              0.526677         2.982085  ...   \n\n   a2_z_specter_iqr  a2_z_specter_zero_crossing  a2_z_specter_range  \\\n0        130.212247                         0.0          430.516204   \n1         79.932721                         0.0          339.669032   \n2         87.487539                         0.0          359.727237   \n3         78.688634                         0.0          353.579137   \n4         83.595954                         0.0          331.560162   \n\n   a2_z_specter_mean  a2_z_specter_petrosian_fd  a2_z_specter_higuchi_fd  \\\n0         121.609951                   1.024136                 1.709899   \n1         116.951076                   1.024806                 1.754620   \n2         126.969372                   1.022686                 1.718792   \n3         108.447712                   1.025371                 1.746161   \n4         112.269206                   1.024240                 1.762398   \n\n   a2_z_specter_crest_factor  a2_z_specter_energy  a2_z_specter_std  \\\n0                   2.865578         2.261059e+07         88.439848   \n1                   2.630547         1.683235e+07         56.167537   \n2                   2.593399         1.971760e+07         59.969811   \n3                   2.880197         1.547513e+07         60.944452   \n4                   2.665190         1.596652e+07         57.984006   \n\n   a2_z_specter_sample_entropy  \n0                     2.754299  \n1                     2.881832  \n2                     2.874073  \n3                     2.780298  \n4                     2.852191  \n\n[5 rows x 206 columns]",
      "text/html": "<div>\n<style scoped>\n    .dataframe tbody tr th:only-of-type {\n        vertical-align: middle;\n    }\n\n    .dataframe tbody tr th {\n        vertical-align: top;\n    }\n\n    .dataframe thead th {\n        text-align: right;\n    }\n</style>\n<table border=\"1\" class=\"dataframe\">\n  <thead>\n    <tr style=\"text-align: right;\">\n      <th></th>\n      <th>target</th>\n      <th>group</th>\n      <th>a1_x_signal_complexity</th>\n      <th>a1_x_signal_shannon_entropy</th>\n      <th>a1_x_signal_kurtosis</th>\n      <th>a1_x_signal_variation</th>\n      <th>a1_x_signal_hurst</th>\n      <th>a1_x_signal_skew</th>\n      <th>a1_x_signal_activity</th>\n      <th>a1_x_signal_iqr</th>\n      <th>...</th>\n      <th>a2_z_specter_iqr</th>\n      <th>a2_z_specter_zero_crossing</th>\n      <th>a2_z_specter_range</th>\n      <th>a2_z_specter_mean</th>\n      <th>a2_z_specter_petrosian_fd</th>\n      <th>a2_z_specter_higuchi_fd</th>\n      <th>a2_z_specter_crest_factor</th>\n      <th>a2_z_specter_energy</th>\n      <th>a2_z_specter_std</th>\n      <th>a2_z_specter_sample_entropy</th>\n    </tr>\n  </thead>\n  <tbody>\n    <tr>\n      <th>0</th>\n      <td>0.0</td>\n      <td>1.0</td>\n      <td>1.865568</td>\n      <td>6.388020</td>\n      <td>-0.337526</td>\n      <td>-9.989303</td>\n      <td>0.626170</td>\n      <td>-0.231906</td>\n      <td>0.519530</td>\n      <td>3.006134</td>\n      <td>...</td>\n      <td>130.212247</td>\n      <td>0.0</td>\n      <td>430.516204</td>\n      <td>121.609951</td>\n      <td>1.024136</td>\n      <td>1.709899</td>\n      <td>2.865578</td>\n      <td>2.261059e+07</td>\n      <td>88.439848</td>\n      <td>2.754299</td>\n    </tr>\n    <tr>\n      <th>1</th>\n      <td>0.0</td>\n      <td>1.0</td>\n      <td>1.812863</td>\n      <td>6.507361</td>\n      <td>-0.329388</td>\n      <td>-8.479932</td>\n      <td>0.633813</td>\n      <td>0.046480</td>\n      <td>0.519920</td>\n      <td>3.270674</td>\n      <td>...</td>\n      <td>79.932721</td>\n      <td>0.0</td>\n      <td>339.669032</td>\n      <td>116.951076</td>\n      <td>1.024806</td>\n      <td>1.754620</td>\n      <td>2.630547</td>\n      <td>1.683235e+07</td>\n      <td>56.167537</td>\n      <td>2.881832</td>\n    </tr>\n    <tr>\n      <th>2</th>\n      <td>0.0</td>\n      <td>1.0</td>\n      <td>1.775775</td>\n      <td>6.489806</td>\n      <td>-0.439591</td>\n      <td>-9.585973</td>\n      <td>0.625745</td>\n      <td>0.014204</td>\n      <td>0.531458</td>\n      <td>3.174478</td>\n      <td>...</td>\n      <td>87.487539</td>\n      <td>0.0</td>\n      <td>359.727237</td>\n      <td>126.969372</td>\n      <td>1.022686</td>\n      <td>1.718792</td>\n      <td>2.593399</td>\n      <td>1.971760e+07</td>\n      <td>59.969811</td>\n      <td>2.874073</td>\n    </tr>\n    <tr>\n      <th>3</th>\n      <td>0.0</td>\n      <td>1.0</td>\n      <td>1.912905</td>\n      <td>6.422261</td>\n      <td>-0.364524</td>\n      <td>-9.033494</td>\n      <td>0.606942</td>\n      <td>-0.145760</td>\n      <td>0.512090</td>\n      <td>2.982085</td>\n      <td>...</td>\n      <td>78.688634</td>\n      <td>0.0</td>\n      <td>353.579137</td>\n      <td>108.447712</td>\n      <td>1.025371</td>\n      <td>1.746161</td>\n      <td>2.880197</td>\n      <td>1.547513e+07</td>\n      <td>60.944452</td>\n      <td>2.780298</td>\n    </tr>\n    <tr>\n      <th>4</th>\n      <td>0.0</td>\n      <td>1.0</td>\n      <td>1.868826</td>\n      <td>6.449559</td>\n      <td>0.017384</td>\n      <td>-8.482620</td>\n      <td>0.631058</td>\n      <td>-0.149621</td>\n      <td>0.526677</td>\n      <td>2.982085</td>\n      <td>...</td>\n      <td>83.595954</td>\n      <td>0.0</td>\n      <td>331.560162</td>\n      <td>112.269206</td>\n      <td>1.024240</td>\n      <td>1.762398</td>\n      <td>2.665190</td>\n      <td>1.596652e+07</td>\n      <td>57.984006</td>\n      <td>2.852191</td>\n    </tr>\n  </tbody>\n</table>\n<p>5 rows × 206 columns</p>\n</div>"
     },
     "execution_count": 4,
     "metadata": {},
     "output_type": "execute_result"
    }
   ],
   "source": [
    "prepared_data = pd.read_csv(os.path.join(own_data_path, 'processed_full_signal_specter1000_noscale.csv'), delimiter=',')  # our experiment\n",
    "# prepared_data = pd.read_csv(os.path.join(third_party_data_path, 'N1 Cesar Ricardo', 'csv',\n",
    "#                                          'processed_full_signal_specter1000_noscale.csv'), delimiter=',')  # third-party dataset\n",
    "prepared_data.head()"
   ],
   "metadata": {
    "collapsed": false,
    "pycharm": {
     "name": "#%%\n"
    }
   }
  },
  {
   "cell_type": "code",
   "execution_count": 5,
   "outputs": [],
   "source": [
    "# models\n",
    "from sklearn.linear_model import LogisticRegression\n",
    "from sklearn.svm import SVC\n",
    "from sklearn.ensemble import RandomForestClassifier\n",
    "from sklearn.ensemble import GradientBoostingClassifier\n",
    "from sklearn.neighbors import KNeighborsClassifier\n",
    "\n",
    "\n",
    "from sklearn.preprocessing import StandardScaler\n",
    "from sklearn.model_selection import GridSearchCV"
   ],
   "metadata": {
    "collapsed": false,
    "pycharm": {
     "name": "#%%\n"
    }
   }
  },
  {
   "cell_type": "code",
   "execution_count": 6,
   "outputs": [],
   "source": [
    "LR_estimator = LogisticRegression(max_iter=10000)\n",
    "SVC_estimator = SVC()\n",
    "RFC_estimator = RandomForestClassifier()\n",
    "GBM_estimator = GradientBoostingClassifier()\n",
    "KNN_estimator = KNeighborsClassifier()"
   ],
   "metadata": {
    "collapsed": false,
    "pycharm": {
     "name": "#%%\n"
    }
   }
  },
  {
   "cell_type": "code",
   "execution_count": 7,
   "outputs": [],
   "source": [
    "LR_grid = {\"C\": np.logspace(-3, 6, 10)}\n",
    "SVC_grid = {\"C\": np.logspace(-3, 6, 10), 'kernel': ['linear', 'poly', 'rbf', 'sigmoid']}\n",
    "RFC_grid = {'n_estimators': [20, 50, 100, 200, 500], 'max_depth': [1, 3, 5, 9, 15, 30, None]}\n",
    "GBM_grid = {'learning_rate': np.logspace(-3, 4, 8), 'n_estimators': [50, 100, 200, 500], 'max_depth': [1, 3, 5, 9, 15, 30, None]}\n",
    "KNN_grid = {'n_neighbors': [1, 3, 5, 7, 9, 15, 35], 'p': [1, 1.5, 2, 2.5, 6, 100]}"
   ],
   "metadata": {
    "collapsed": false,
    "pycharm": {
     "name": "#%%\n"
    }
   }
  },
  {
   "cell_type": "code",
   "execution_count": 8,
   "outputs": [],
   "source": [
    "X = prepared_data.drop(columns=['target', 'group']).values\n",
    "y = prepared_data['target'].values\n",
    "groups = prepared_data['group'].values\n",
    "\n",
    "X_scaled = StandardScaler().fit_transform(X)"
   ],
   "metadata": {
    "collapsed": false,
    "pycharm": {
     "name": "#%%\n"
    }
   }
  },
  {
   "cell_type": "code",
   "execution_count": 13,
   "outputs": [
    {
     "name": "stdout",
     "output_type": "stream",
     "text": [
      "Best f1 score for LR: 84.988% \n",
      " best params: {'C': 10000.0}\n",
      " required time: 0:00:32.077942\n",
      "Best f1 score for SVC: 85.250% \n",
      " best params: {'C': 0.1, 'kernel': 'linear'}\n",
      " required time: 0:01:40.415973\n"
     ]
    }
   ],
   "source": [
    "from datetime import datetime\n",
    "\n",
    "GS_results_objects = []\n",
    "estimators = [LR_estimator, SVC_estimator]\n",
    "grids = [LR_grid, SVC_grid]\n",
    "names = ['LR', 'SVC']\n",
    "score_name = 'f1'\n",
    "\n",
    "for estimator, grid, name in zip(estimators, grids, names):\n",
    "    start_time = datetime.now()\n",
    "    cv = Shuffler.OverlapGroupCV(train_size=0.63, n_repeats=100).split(X_scaled, y, groups)\n",
    "    GSCV = GridSearchCV(estimator, grid, scoring=score_name, cv=cv)\n",
    "    GSCV.fit(X_scaled, y, groups=groups)\n",
    "\n",
    "    print(f\"Best {score_name} score for {name}: {100*GSCV.best_score_:.3f}% \\n best params: {GSCV.best_params_}\\n required time: {datetime.now() - start_time}\")\n",
    "\n",
    "    highest_score_params = GSCV.cv_results_['rank_test_score'][0]\n",
    "    split_scores_names = [f'split{idx}_test_score' for idx in range(100)]\n",
    "\n",
    "    scores_distr = []\n",
    "    for split_scores_name in split_scores_names:\n",
    "        scores_distr.append(GSCV.cv_results_[split_scores_name][highest_score_params-1])\n",
    "    res = GridSearchResults(\n",
    "        run_label = \"GS\",\n",
    "        model_name = name,\n",
    "        hyperparameters = GSCV.best_params_,\n",
    "        hyperparameters_grid = grid,\n",
    "        use_signal = True,\n",
    "        use_specter = True,\n",
    "        specter_threshold = 1000,\n",
    "        axes = Axes.get_keys(),\n",
    "        stats = Stats.get_keys(),\n",
    "        predictions = None,\n",
    "        scores = {score_name: GSCV.best_score_},\n",
    "        resampling_number = 100,\n",
    "        bootstrap_scores =  {score_name: scores_distr}\n",
    "    )\n",
    "    GS_results_objects.append(res)"
   ],
   "metadata": {
    "collapsed": false,
    "pycharm": {
     "name": "#%%\n"
    }
   }
  },
  {
   "cell_type": "code",
   "execution_count": 17,
   "outputs": [
    {
     "data": {
      "text/plain": "[GridSearchResults(run_label='GS', model_name='LR', hyperparameters={'C': 10000.0}, use_signal=True, use_specter=True, specter_threshold=1000, axes=['a1_x', 'a1_y', 'a1_z', 'a2_x', 'a2_y', 'a2_z'], stats=['mean', 'std', 'kurtosis', 'skew', 'variation', 'range', 'iqr', 'sample_entropy', 'shannon_entropy', 'energy', 'hurst', 'petrosian_fd', 'zero_crossing', 'higuchi_fd', 'activity', 'complexity', 'crest_factor'], predictions=None, scores={'f1': 0.8498766688063649}, resampling_number=100, bootstrap_scores={'f1': [0.8602150537634408, 0.8505747126436781, 0.970873786407767, 0.6835443037974683, 0.8723404255319149, 0.99009900990099, 0.7706422018348624, 0.9702970297029702, 0.9183673469387755, 0.7000000000000001, 0.6516853932584269, 0.8275862068965518, 0.9292929292929293, 0.9333333333333333, 0.9052631578947369, 0.8723404255319149, 0.888888888888889, 0.853932584269663, 0.8775510204081632, 0.9010989010989011, 0.7407407407407407, 0.7499999999999999, 0.8659793814432989, 0.9010989010989011, 0.9306930693069307, 0.6935483870967741, 0.9484536082474226, 0.7499999999999999, 0.9130434782608696, 0.9166666666666666, 0.7499999999999999, 0.9361702127659575, 0.7499999999999999, 0.9484536082474226, 0.8636363636363636, 0.803921568627451, 0.924731182795699, 0.7317073170731707, 0.9174311926605504, 0.8910891089108911, 0.8867924528301886, 0.8749999999999999, 0.7499999999999999, 0.8636363636363636, 0.8444444444444444, 0.8351648351648352, 0.8636363636363636, 0.8928571428571428, 0.8958333333333334, 0.9130434782608696, 0.8979591836734694, 0.8659793814432989, 0.8723404255319149, 0.8723404255319149, 0.7155963302752293, 0.7228915662650602, 0.7499999999999999, 0.8108108108108109, 0.7499999999999999, 0.888888888888889, 0.9361702127659575, 0.9433962264150945, 0.7317073170731707, 0.9072164948453608, 0.98, 0.8076923076923077, 0.9032258064516129, 0.8659793814432989, 0.8043478260869565, 0.970873786407767, 0.8928571428571428, 0.98989898989899, 0.7228915662650602, 0.9803921568627451, 0.9607843137254902, 0.8444444444444444, 0.853932584269663, 0.9696969696969697, 0.7499999999999999, 0.7706422018348624, 0.8936170212765958, 0.7341772151898733, 0.7499999999999999, 0.8631578947368421, 0.9245283018867924, 0.8571428571428572, 0.8235294117647058, 0.8571428571428572, 0.7088607594936709, 0.8723404255319149, 0.7499999999999999, 0.9130434782608696, 0.7499999999999999, 0.8210526315789474, 0.6818181818181819, 0.8, 0.8817204301075269, 0.6393442622950819, 0.99009900990099, 0.8686868686868686]}, hyperparameters_grid={'C': array([1.e-03, 1.e-02, 1.e-01, 1.e+00, 1.e+01, 1.e+02, 1.e+03, 1.e+04,\n        1.e+05, 1.e+06])}),\n GridSearchResults(run_label='GS', model_name='SVC', hyperparameters={'C': 0.1, 'kernel': 'linear'}, use_signal=True, use_specter=True, specter_threshold=1000, axes=['a1_x', 'a1_y', 'a1_z', 'a2_x', 'a2_y', 'a2_z'], stats=['mean', 'std', 'kurtosis', 'skew', 'variation', 'range', 'iqr', 'sample_entropy', 'shannon_entropy', 'energy', 'hurst', 'petrosian_fd', 'zero_crossing', 'higuchi_fd', 'activity', 'complexity', 'crest_factor'], predictions=None, scores={'f1': 0.8525003755017339}, resampling_number=100, bootstrap_scores={'f1': [0.675, 0.6301369863013699, 0.5915492957746479, 0.8764044943820225, 0.6666666666666666, 0.5569620253164557, 0.6486486486486487, 0.6842105263157895, 0.6233766233766234, 0.7012987012987013, 0.6486486486486487, 0.5915492957746479, 0.6842105263157895, 0.8505747126436781, 0.4799999999999999, 0.7415730337078651, 0.7294117647058823, 0.7272727272727272, 0.6133333333333333, 0.6486486486486487, 0.8764044943820225, 0.5789473684210525, 0.9583333333333334, 0.6190476190476191, 0.7380952380952381, 0.6486486486486487, 0.5915492957746479, 0.7012987012987013, 0.48484848484848486, 0.6301369863013699, 0.6486486486486487, 0.8505747126436781, 0.5194805194805194, 0.6842105263157895, 0.7529411764705883, 0.7111111111111111, 0.9130434782608696, 0.5714285714285715, 0.6301369863013699, 0.4615384615384615, 0.43750000000000006, 0.4615384615384615, 0.7499999999999999, 0.7619047619047621, 0.6133333333333333, 0.6666666666666666, 0.6976744186046512, 0.6666666666666666, 0.8505747126436781, 0.5142857142857143, 0.8172043010752689, 0.7073170731707317, 0.6153846153846153, 0.717948717948718, 0.691358024691358, 0.7341772151898733, 0.7209302325581396, 0.6133333333333333, 0.8351648351648352, 0.7912087912087912, 0.7356321839080459, 0.6486486486486487, 0.5714285714285715, 0.7341772151898733, 0.5194805194805194, 0.605263157894737, 0.7368421052631577, 0.6373626373626374, 0.6746987951807228, 0.5074626865671642, 0.7472527472527474, 0.6363636363636364, 0.5714285714285715, 0.6582278481012658, 0.5915492957746479, 0.7865168539325842, 0.8409090909090909, 0.5915492957746479, 0.5507246376811594, 0.6301369863013699, 0.8222222222222222, 0.8095238095238095, 0.6419753086419753, 0.7228915662650602, 0.6233766233766234, 0.675, 0.717948717948718, 0.6842105263157895, 0.7012987012987013, 0.7341772151898733, 0.6666666666666666, 0.7674418604651163, 0.6486486486486487, 0.6666666666666666, 0.7654320987654321, 0.8222222222222222, 0.5507246376811594, 0.8478260869565217, 0.717948717948718, 0.6829268292682927]}, hyperparameters_grid={'C': array([1.e-03, 1.e-02, 1.e-01, 1.e+00, 1.e+01, 1.e+02, 1.e+03, 1.e+04,\n        1.e+05, 1.e+06]), 'kernel': ['linear', 'poly', 'rbf', 'sigmoid']})]"
     },
     "execution_count": 17,
     "metadata": {},
     "output_type": "execute_result"
    }
   ],
   "source": [
    "GS_results_objects"
   ],
   "metadata": {
    "collapsed": false,
    "pycharm": {
     "name": "#%%\n"
    }
   }
  },
  {
   "cell_type": "code",
   "execution_count": null,
   "outputs": [],
   "source": [
    "from source.postprocessing.mljson import serialize_results\n",
    "\n",
    "\n",
    "serialize_results(GS_results_objects, filenames=[f\"{model}_GS_28_10_2021.json\" for model in names], filepath=os.path.join(project_folder, 'experiments/BootstrapsRuns/GridSearch/'))"
   ],
   "metadata": {
    "collapsed": false,
    "pycharm": {
     "name": "#%%\n",
     "is_executing": true
    }
   }
  },
  {
   "cell_type": "code",
   "execution_count": 14,
   "outputs": [],
   "source": [
    "estimators_score_distr = [res.bootstrap_scores for res in GS_results_objects]\n",
    "estimators_scores_means = [res.scores for res in GS_results_objects]"
   ],
   "metadata": {
    "collapsed": false,
    "pycharm": {
     "name": "#%%\n"
    }
   }
  },
  {
   "cell_type": "code",
   "execution_count": 15,
   "outputs": [
    {
     "data": {
      "text/plain": "<Figure size 576x864 with 1 Axes>",
      "image/png": "[encoded data removed]"
     },
     "metadata": {
      "needs_background": "light"
     },
     "output_type": "display_data"
    }
   ],
   "source": [
    "from source.postprocessing.plotter import dist_plot, bar_plot\n",
    "\n",
    "\n",
    "# dist_plot(results=estimators_score_distr, models=names, metrics=['f1'], plot_size=(8, 12), Title='GridSearch', filename='GS_LR_SVC.png')\n",
    "\n",
    "bar_plot(results=estimators_scores_means, models=names, metrics=['f1'], plot_size=(8, 12), Title='GridSearch best scores', filename='GS_LR_SVC_means.png')"
   ],
   "metadata": {
    "collapsed": false,
    "pycharm": {
     "name": "#%%\n"
    }
   }
  }
 ],
 "metadata": {
  "kernelspec": {
   "display_name": "Python 3",
   "language": "python",
   "name": "python3"
  },
  "language_info": {
   "codemirror_mode": {
    "name": "ipython",
    "version": 2
   },
   "file_extension": ".py",
   "mimetype": "text/x-python",
   "name": "python",
   "nbconvert_exporter": "python",
   "pygments_lexer": "ipython2",
   "version": "2.7.6"
  }
 },
 "nbformat": 4,
 "nbformat_minor": 0
}